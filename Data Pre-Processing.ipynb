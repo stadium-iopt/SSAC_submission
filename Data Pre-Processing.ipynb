{
 "cells": [
  {
   "cell_type": "markdown",
   "metadata": {},
   "source": [
    "# <center>Data Pre-Processing</center>"
   ]
  },
  {
   "cell_type": "markdown",
   "metadata": {},
   "source": [
    "## 0. Importing Libraries"
   ]
  },
  {
   "cell_type": "code",
   "execution_count": 1,
   "metadata": {},
   "outputs": [
    {
     "name": "stdout",
     "output_type": "stream",
     "text": [
      "Python 3.8.12\r\n"
     ]
    }
   ],
   "source": [
    "!python --version\n",
    "\n",
    "import warnings\n",
    "warnings.filterwarnings('ignore')"
   ]
  },
  {
   "cell_type": "code",
   "execution_count": 2,
   "metadata": {},
   "outputs": [],
   "source": [
    "import cv2     \n",
    "import math   \n",
    "import matplotlib.pyplot as plt    \n",
    "import pandas as pd\n",
    "import numpy as np \n",
    "from os import path\n",
    "from os import listdir\n",
    "from os.path import exists\n",
    "from PIL import Image as img\n",
    "\n",
    "%matplotlib inline"
   ]
  },
  {
   "cell_type": "markdown",
   "metadata": {},
   "source": [
    "## 1. Loading and combining play datasets"
   ]
  },
  {
   "cell_type": "code",
   "execution_count": 22,
   "metadata": {},
   "outputs": [
    {
     "data": {
      "text/html": [
       "<div>\n",
       "<style scoped>\n",
       "    .dataframe tbody tr th:only-of-type {\n",
       "        vertical-align: middle;\n",
       "    }\n",
       "\n",
       "    .dataframe tbody tr th {\n",
       "        vertical-align: top;\n",
       "    }\n",
       "\n",
       "    .dataframe thead th {\n",
       "        text-align: right;\n",
       "    }\n",
       "</style>\n",
       "<table border=\"1\" class=\"dataframe\">\n",
       "  <thead>\n",
       "    <tr style=\"text-align: right;\">\n",
       "      <th></th>\n",
       "      <th>ID</th>\n",
       "      <th>Down</th>\n",
       "      <th>ToGo</th>\n",
       "      <th>Spot</th>\n",
       "      <th>Text</th>\n",
       "      <th>Quarter</th>\n",
       "      <th>HasBall</th>\n",
       "      <th>Type</th>\n",
       "      <th>VideoFileName</th>\n",
       "      <th>VideoPath</th>\n",
       "      <th>PlayID</th>\n",
       "      <th>GameID</th>\n",
       "    </tr>\n",
       "  </thead>\n",
       "  <tbody>\n",
       "    <tr>\n",
       "      <th>0</th>\n",
       "      <td>11</td>\n",
       "      <td>2.0</td>\n",
       "      <td>3</td>\n",
       "      <td>H24</td>\n",
       "      <td>2nd &amp; 3 at OSU24: Saine, Brandon rush for 11 y...</td>\n",
       "      <td>1</td>\n",
       "      <td>V</td>\n",
       "      <td>R</td>\n",
       "      <td>000</td>\n",
       "      <td>2009/G3/Q1/</td>\n",
       "      <td>11</td>\n",
       "      <td>3</td>\n",
       "    </tr>\n",
       "    <tr>\n",
       "      <th>1</th>\n",
       "      <td>11</td>\n",
       "      <td>2.0</td>\n",
       "      <td>3</td>\n",
       "      <td>H24</td>\n",
       "      <td>2nd &amp; 3 at OSU24: Saine, Brandon rush for 11 y...</td>\n",
       "      <td>1</td>\n",
       "      <td>V</td>\n",
       "      <td>R</td>\n",
       "      <td>003</td>\n",
       "      <td>2009/G3/Q1/</td>\n",
       "      <td>11</td>\n",
       "      <td>3</td>\n",
       "    </tr>\n",
       "    <tr>\n",
       "      <th>2</th>\n",
       "      <td>15</td>\n",
       "      <td>1.0</td>\n",
       "      <td>0</td>\n",
       "      <td>H03</td>\n",
       "      <td>1st &amp; GOAL at OSU03: Pettrey, Aaron kick attem...</td>\n",
       "      <td>1</td>\n",
       "      <td>V</td>\n",
       "      <td>X</td>\n",
       "      <td>002</td>\n",
       "      <td>2009/G3/Q1/</td>\n",
       "      <td>15</td>\n",
       "      <td>3</td>\n",
       "    </tr>\n",
       "    <tr>\n",
       "      <th>3</th>\n",
       "      <td>18</td>\n",
       "      <td>1.0</td>\n",
       "      <td>10</td>\n",
       "      <td>H26</td>\n",
       "      <td>1st &amp; 10 at OSU26: Masoli, J. pass complete to...</td>\n",
       "      <td>1</td>\n",
       "      <td>H</td>\n",
       "      <td>P</td>\n",
       "      <td>012</td>\n",
       "      <td>2009/G4/Q1/</td>\n",
       "      <td>18</td>\n",
       "      <td>4</td>\n",
       "    </tr>\n",
       "    <tr>\n",
       "      <th>4</th>\n",
       "      <td>38</td>\n",
       "      <td>1.0</td>\n",
       "      <td>10</td>\n",
       "      <td>H09</td>\n",
       "      <td>1st &amp; 10 at OSU09: James, L. rush for loss of ...</td>\n",
       "      <td>1</td>\n",
       "      <td>H</td>\n",
       "      <td>R</td>\n",
       "      <td>027</td>\n",
       "      <td>2009/G4/Q1/</td>\n",
       "      <td>38</td>\n",
       "      <td>4</td>\n",
       "    </tr>\n",
       "  </tbody>\n",
       "</table>\n",
       "</div>"
      ],
      "text/plain": [
       "   ID  Down  ToGo Spot                                               Text  \\\n",
       "0  11   2.0     3  H24  2nd & 3 at OSU24: Saine, Brandon rush for 11 y...   \n",
       "1  11   2.0     3  H24  2nd & 3 at OSU24: Saine, Brandon rush for 11 y...   \n",
       "2  15   1.0     0  H03  1st & GOAL at OSU03: Pettrey, Aaron kick attem...   \n",
       "3  18   1.0    10  H26  1st & 10 at OSU26: Masoli, J. pass complete to...   \n",
       "4  38   1.0    10  H09  1st & 10 at OSU09: James, L. rush for loss of ...   \n",
       "\n",
       "   Quarter HasBall Type VideoFileName    VideoPath  PlayID  GameID  \n",
       "0        1       V    R           000  2009/G3/Q1/      11       3  \n",
       "1        1       V    R           003  2009/G3/Q1/      11       3  \n",
       "2        1       V    X           002  2009/G3/Q1/      15       3  \n",
       "3        1       H    P           012  2009/G4/Q1/      18       4  \n",
       "4        1       H    R           027  2009/G4/Q1/      38       4  "
      ]
     },
     "execution_count": 22,
     "metadata": {},
     "output_type": "execute_result"
    }
   ],
   "source": [
    "videos_csv = pd.read_csv('../data/play_data/Video.csv',sep=';')\n",
    "plays_csv = pd.read_csv('../data/play_data/Play.csv',sep=';')\n",
    "training_labels = pd.merge(plays_csv.iloc[:,[0,1,2,3,4,5,9,10]], videos_csv[['VideoFileName','VideoPath','PlayID','GameID']],left_on='ID', right_on='PlayID')\n",
    "training_labels = training_labels[training_labels.Type.isin(['K', 'R', 'P', 'X', 'F', 'U'])]\n",
    "training_labels.head()"
   ]
  },
  {
   "cell_type": "code",
   "execution_count": 23,
   "metadata": {},
   "outputs": [],
   "source": [
    "training_labels_grayscale = training_labels.copy()"
   ]
  },
  {
   "cell_type": "markdown",
   "metadata": {},
   "source": [
    "## 2 Splitting videos into static frames"
   ]
  },
  {
   "cell_type": "code",
   "execution_count": 24,
   "metadata": {},
   "outputs": [],
   "source": [
    "def extract_frames(row, label_dict, fps=10, mode='rgb'):\n",
    "    video_path = '../data/videos_high_resolution/' + row[9] + 'raw/' + row[8] + '.mp4'\n",
    "    label = row[7]\n",
    "    if path.exists(video_path):\n",
    "        cap = cv2.VideoCapture(video_path)\n",
    "        frameRate = cap.get(cv2.CAP_PROP_FPS)\n",
    "        x = 1\n",
    "        count = 0\n",
    "        while(cap.isOpened()):\n",
    "            frameId = cap.get(cv2.CAP_PROP_POS_FRAMES)\n",
    "            ret, frame = cap.read()\n",
    "            if (ret != True):\n",
    "                break\n",
    "            if ((frameId % (math.ceil(frameRate) // fps)) == 0):\n",
    "                filename = \"../data/stadium-iopt/training_frames/\" + mode + \"/\" + str(row[-1]) + \"_\" + str(row[5]) + \"_\" + row[8] + \"_\" + \"frame%d.jpg\" % count\n",
    "                count+=1\n",
    "                h, w, c = frame.shape\n",
    "                y = (w-h)//2\n",
    "                good = frame[:, y:y+h]\n",
    "                good = cv2.resize(good,(224,224))\n",
    "                if mode == 'grayscale':\n",
    "                    good = cv2.cvtColor(good,cv2.COLOR_BGR2GRAY)\n",
    "                cv2.imwrite(filename, good)\n",
    "                label_dict[filename] = [str(row[-1]) + \"_\" + str(row[5]) + \"_\" + row[8], count, label]\n",
    "        cap.release()\n",
    "    return row"
   ]
  },
  {
   "cell_type": "code",
   "execution_count": 25,
   "metadata": {},
   "outputs": [],
   "source": [
    "label_dict = {}\n",
    "mode = 'rgb'\n",
    "rgb_dir = \"../data/stadium-iopt/training_frames/\" + mode\n",
    "\n",
    "file_count = len([name for name in listdir(rgb_dir) if not name.startswith(\".\")])\n",
    "\n",
    "if file_count == 0:\n",
    "    training_labels.apply(lambda row: extract_frames(row,label_dict,10,'rgb'), axis=1)"
   ]
  },
  {
   "cell_type": "code",
   "execution_count": 39,
   "metadata": {},
   "outputs": [],
   "source": [
    "label_dict_grayscale = {}\n",
    "mode = 'grayscale'\n",
    "grayscale_dir = \"../data/stadium-iopt/training_frames/\" + mode\n",
    "\n",
    "file_count = len([name for name in listdir(grayscale_dir) if not name.startswith(\".\")])\n",
    "\n",
    "if file_count == 0:\n",
    "    training_labels_grayscale.apply(lambda row: extract_frames(row,label_dict_grayscale,10,'grayscale'), axis=1)"
   ]
  },
  {
   "cell_type": "markdown",
   "metadata": {},
   "source": [
    "## 3. Saving the training frames' labels"
   ]
  },
  {
   "cell_type": "code",
   "execution_count": 26,
   "metadata": {},
   "outputs": [],
   "source": [
    "label_map = {\n",
    "    'K': 0,\n",
    "    'R': 1,\n",
    "    'P': 2,\n",
    "    'X': 3,\n",
    "    'F': 4,\n",
    "    'U': 5,\n",
    "}"
   ]
  },
  {
   "cell_type": "code",
   "execution_count": 27,
   "metadata": {},
   "outputs": [
    {
     "data": {
      "text/html": [
       "<div>\n",
       "<style scoped>\n",
       "    .dataframe tbody tr th:only-of-type {\n",
       "        vertical-align: middle;\n",
       "    }\n",
       "\n",
       "    .dataframe tbody tr th {\n",
       "        vertical-align: top;\n",
       "    }\n",
       "\n",
       "    .dataframe thead th {\n",
       "        text-align: right;\n",
       "    }\n",
       "</style>\n",
       "<table border=\"1\" class=\"dataframe\">\n",
       "  <thead>\n",
       "    <tr style=\"text-align: right;\">\n",
       "      <th></th>\n",
       "      <th>filename</th>\n",
       "      <th>play</th>\n",
       "      <th>frame</th>\n",
       "      <th>label</th>\n",
       "      <th>numeric_label</th>\n",
       "    </tr>\n",
       "  </thead>\n",
       "  <tbody>\n",
       "    <tr>\n",
       "      <th>0</th>\n",
       "      <td>264_1_000_frame0.jpg</td>\n",
       "      <td>264_1_000</td>\n",
       "      <td>1</td>\n",
       "      <td>K</td>\n",
       "      <td>0</td>\n",
       "    </tr>\n",
       "    <tr>\n",
       "      <th>1</th>\n",
       "      <td>264_1_000_frame1.jpg</td>\n",
       "      <td>264_1_000</td>\n",
       "      <td>2</td>\n",
       "      <td>K</td>\n",
       "      <td>0</td>\n",
       "    </tr>\n",
       "    <tr>\n",
       "      <th>2</th>\n",
       "      <td>264_1_000_frame2.jpg</td>\n",
       "      <td>264_1_000</td>\n",
       "      <td>3</td>\n",
       "      <td>K</td>\n",
       "      <td>0</td>\n",
       "    </tr>\n",
       "    <tr>\n",
       "      <th>3</th>\n",
       "      <td>264_1_000_frame3.jpg</td>\n",
       "      <td>264_1_000</td>\n",
       "      <td>4</td>\n",
       "      <td>K</td>\n",
       "      <td>0</td>\n",
       "    </tr>\n",
       "    <tr>\n",
       "      <th>4</th>\n",
       "      <td>264_1_000_frame4.jpg</td>\n",
       "      <td>264_1_000</td>\n",
       "      <td>5</td>\n",
       "      <td>K</td>\n",
       "      <td>0</td>\n",
       "    </tr>\n",
       "  </tbody>\n",
       "</table>\n",
       "</div>"
      ],
      "text/plain": [
       "               filename       play  frame label  numeric_label\n",
       "0  264_1_000_frame0.jpg  264_1_000      1     K              0\n",
       "1  264_1_000_frame1.jpg  264_1_000      2     K              0\n",
       "2  264_1_000_frame2.jpg  264_1_000      3     K              0\n",
       "3  264_1_000_frame3.jpg  264_1_000      4     K              0\n",
       "4  264_1_000_frame4.jpg  264_1_000      5     K              0"
      ]
     },
     "execution_count": 27,
     "metadata": {},
     "output_type": "execute_result"
    }
   ],
   "source": [
    "mode = 'rgb'\n",
    "\n",
    "file_path = \"../data/stadium-iopt/training_labels/\" + mode + \"/\" + \"labels.csv\"\n",
    "\n",
    "if not exists(file_path):\n",
    "    labels_df = pd.DataFrame.from_dict(label_dict, orient='index').reset_index()\n",
    "    labels_df.columns = ['filename','play','frame','label']\n",
    "    labels_df['filename'] = labels_df['filename'].apply(lambda x: x.split('/')[-1])\n",
    "    labels_df['numeric_label'] = labels_df['label'].map(label_map)\n",
    "\n",
    "    labels_df.to_csv(file_path, index=False)\n",
    "else:\n",
    "    labels_df = pd.read_csv(file_path)\n",
    "labels_df.head()"
   ]
  },
  {
   "cell_type": "code",
   "execution_count": 28,
   "metadata": {},
   "outputs": [
    {
     "data": {
      "text/html": [
       "<div>\n",
       "<style scoped>\n",
       "    .dataframe tbody tr th:only-of-type {\n",
       "        vertical-align: middle;\n",
       "    }\n",
       "\n",
       "    .dataframe tbody tr th {\n",
       "        vertical-align: top;\n",
       "    }\n",
       "\n",
       "    .dataframe thead th {\n",
       "        text-align: right;\n",
       "    }\n",
       "</style>\n",
       "<table border=\"1\" class=\"dataframe\">\n",
       "  <thead>\n",
       "    <tr style=\"text-align: right;\">\n",
       "      <th></th>\n",
       "      <th>filename</th>\n",
       "      <th>play</th>\n",
       "      <th>frame</th>\n",
       "      <th>label</th>\n",
       "      <th>numeric_label</th>\n",
       "    </tr>\n",
       "  </thead>\n",
       "  <tbody>\n",
       "    <tr>\n",
       "      <th>0</th>\n",
       "      <td>264_1_000_frame0.jpg</td>\n",
       "      <td>264_1_000</td>\n",
       "      <td>1</td>\n",
       "      <td>K</td>\n",
       "      <td>0</td>\n",
       "    </tr>\n",
       "    <tr>\n",
       "      <th>1</th>\n",
       "      <td>264_1_000_frame1.jpg</td>\n",
       "      <td>264_1_000</td>\n",
       "      <td>2</td>\n",
       "      <td>K</td>\n",
       "      <td>0</td>\n",
       "    </tr>\n",
       "    <tr>\n",
       "      <th>2</th>\n",
       "      <td>264_1_000_frame2.jpg</td>\n",
       "      <td>264_1_000</td>\n",
       "      <td>3</td>\n",
       "      <td>K</td>\n",
       "      <td>0</td>\n",
       "    </tr>\n",
       "    <tr>\n",
       "      <th>3</th>\n",
       "      <td>264_1_000_frame3.jpg</td>\n",
       "      <td>264_1_000</td>\n",
       "      <td>4</td>\n",
       "      <td>K</td>\n",
       "      <td>0</td>\n",
       "    </tr>\n",
       "    <tr>\n",
       "      <th>4</th>\n",
       "      <td>264_1_000_frame4.jpg</td>\n",
       "      <td>264_1_000</td>\n",
       "      <td>5</td>\n",
       "      <td>K</td>\n",
       "      <td>0</td>\n",
       "    </tr>\n",
       "  </tbody>\n",
       "</table>\n",
       "</div>"
      ],
      "text/plain": [
       "               filename       play  frame label  numeric_label\n",
       "0  264_1_000_frame0.jpg  264_1_000      1     K              0\n",
       "1  264_1_000_frame1.jpg  264_1_000      2     K              0\n",
       "2  264_1_000_frame2.jpg  264_1_000      3     K              0\n",
       "3  264_1_000_frame3.jpg  264_1_000      4     K              0\n",
       "4  264_1_000_frame4.jpg  264_1_000      5     K              0"
      ]
     },
     "execution_count": 28,
     "metadata": {},
     "output_type": "execute_result"
    }
   ],
   "source": [
    "mode = 'grayscale'\n",
    "\n",
    "\n",
    "file_path = \"../data/stadium-iopt/training_labels/\" + mode + \"/\" + \"labels.csv\"\n",
    "\n",
    "if not exists(file_path):\n",
    "    labels_df_grayscale = pd.DataFrame.from_dict(label_dict_grayscale, orient='index').reset_index()\n",
    "    labels_df_grayscale.columns = ['filename','play','frame','label']\n",
    "    labels_df_grayscale['filename'] = labels_df_grayscale['filename'].apply(lambda x: x.split('/')[-1])\n",
    "    labels_df_grayscale['numeric_label'] = labels_df_grayscale['label'].map(label_map)\n",
    "\n",
    "    labels_df_grayscale.to_csv(file_path, index=False)\n",
    "else:\n",
    "    labels_df_grayscale = pd.read_csv(file_path)\n",
    "labels_df_grayscale.head()"
   ]
  },
  {
   "cell_type": "markdown",
   "metadata": {},
   "source": [
    "## 4. Creating a numpy array with all the frames for each play"
   ]
  },
  {
   "cell_type": "code",
   "execution_count": 29,
   "metadata": {},
   "outputs": [
    {
     "data": {
      "text/plain": [
       "'264_1_000'"
      ]
     },
     "execution_count": 29,
     "metadata": {},
     "output_type": "execute_result"
    }
   ],
   "source": [
    "labels_df.play[0]"
   ]
  },
  {
   "cell_type": "code",
   "execution_count": null,
   "metadata": {},
   "outputs": [
    {
     "name": "stdout",
     "output_type": "stream",
     "text": [
      "Video 1 of 5667\n",
      "Video 1000 of 5667\n",
      "Video 2000 of 5667\n"
     ]
    }
   ],
   "source": [
    "mode = 'rgb'\n",
    "\n",
    "path = \"../data/stadium-iopt/training_frames/\" + mode + \"/\"\n",
    "images =  [[]]\n",
    "prev_play = labels_df.play[0]\n",
    "play_idx = 0\n",
    "plays = [labels_df.iloc[0].play]\n",
    "labels = [labels_df.iloc[0].numeric_label]\n",
    "char_labels = [labels_df.iloc[0].label]\n",
    "\n",
    "rgb_np_dir = \"../data/stadium-iopt/numpy_data/\" + mode + \"/\"\n",
    "file_count = len([name for name in listdir(rgb_np_dir) if not name.startswith(\".\")])\n",
    "\n",
    "if file_count == 0:\n",
    "    for idx, row in labels_df.iterrows():\n",
    "        image = img.open(path + row.filename)\n",
    "        if prev_play != row.play:\n",
    "            images[play_idx] = np.asarray(images[play_idx])\n",
    "            play_idx += 1\n",
    "            prev_play = row.play\n",
    "            images.append([])\n",
    "            labels.append(row.numeric_label)\n",
    "            char_labels.append(row.label)\n",
    "            plays.append(row.play)\n",
    "            if ((play_idx % 1000) == 0) or ((play_idx == (5667 - 1))) or (play_idx == 1):\n",
    "                print(\"Video \" + str(play_idx) + \" of \" + str(5667))\n",
    "        images[play_idx].append(np.asarray(image))\n",
    "\n",
    "    images[-1] = np.asarray(images[-1])    \n",
    "    images = np.asarray(images)"
   ]
  },
  {
   "cell_type": "code",
   "execution_count": null,
   "metadata": {},
   "outputs": [],
   "source": [
    "print(images.shape)\n",
    "print(images[0].shape)\n",
    "print(images[0][0].shape)"
   ]
  },
  {
   "cell_type": "code",
   "execution_count": null,
   "metadata": {},
   "outputs": [],
   "source": [
    "print(len(labels))\n",
    "print(len(char_labels))\n",
    "print(len(plays))"
   ]
  },
  {
   "cell_type": "code",
   "execution_count": null,
   "metadata": {},
   "outputs": [],
   "source": [
    "# Saving the numeric labels\n",
    "\n",
    "np.save('../data/stadium-iopt/numpy_data/' + mode + '/numeric_labels.npy', labels)\n",
    "\n",
    "# Saving the char labels\n",
    "\n",
    "np.save('../data/stadium-iopt/numpy_data/' + mode + '/char_labels.npy', char_labels)\n",
    "\n",
    "# Saving the play numbers\n",
    "\n",
    "np.save('../data/stadium-iopt/numpy_data/' + mode + '/plays.npy', plays)"
   ]
  },
  {
   "cell_type": "code",
   "execution_count": null,
   "metadata": {},
   "outputs": [],
   "source": [
    "# Saving the numpy array containing all the frames for each play\n",
    "\n",
    "np.save('../data/stadium-iopt/numpy_data/' + mode + '/images.npy', images)"
   ]
  },
  {
   "cell_type": "code",
   "execution_count": 17,
   "metadata": {},
   "outputs": [
    {
     "ename": "KeyboardInterrupt",
     "evalue": "",
     "output_type": "error",
     "traceback": [
      "\u001b[0;31m---------------------------------------------------------------------------\u001b[0m",
      "\u001b[0;31mKeyboardInterrupt\u001b[0m                         Traceback (most recent call last)",
      "\u001b[0;32m/var/folders/1h/fljt70c10b711m5__4_n_k500000gn/T/ipykernel_6657/3272313568.py\u001b[0m in \u001b[0;36m<module>\u001b[0;34m\u001b[0m\n\u001b[1;32m     15\u001b[0m     \u001b[0;32mfor\u001b[0m \u001b[0midx\u001b[0m\u001b[0;34m,\u001b[0m \u001b[0mrow\u001b[0m \u001b[0;32min\u001b[0m \u001b[0mlabels_df_grayscale\u001b[0m\u001b[0;34m.\u001b[0m\u001b[0miterrows\u001b[0m\u001b[0;34m(\u001b[0m\u001b[0;34m)\u001b[0m\u001b[0;34m:\u001b[0m\u001b[0;34m\u001b[0m\u001b[0;34m\u001b[0m\u001b[0m\n\u001b[1;32m     16\u001b[0m         \u001b[0mimage\u001b[0m \u001b[0;34m=\u001b[0m \u001b[0mimg\u001b[0m\u001b[0;34m.\u001b[0m\u001b[0mopen\u001b[0m\u001b[0;34m(\u001b[0m\u001b[0mpath\u001b[0m \u001b[0;34m+\u001b[0m \u001b[0mrow\u001b[0m\u001b[0;34m.\u001b[0m\u001b[0mfilename\u001b[0m\u001b[0;34m)\u001b[0m\u001b[0;34m\u001b[0m\u001b[0;34m\u001b[0m\u001b[0m\n\u001b[0;32m---> 17\u001b[0;31m         \u001b[0;32mif\u001b[0m \u001b[0mprev_play\u001b[0m \u001b[0;34m!=\u001b[0m \u001b[0mrow\u001b[0m\u001b[0;34m.\u001b[0m\u001b[0mplay\u001b[0m\u001b[0;34m:\u001b[0m\u001b[0;34m\u001b[0m\u001b[0;34m\u001b[0m\u001b[0m\n\u001b[0m\u001b[1;32m     18\u001b[0m             \u001b[0mimages_grayscale\u001b[0m\u001b[0;34m[\u001b[0m\u001b[0mplay_idx\u001b[0m\u001b[0;34m]\u001b[0m \u001b[0;34m=\u001b[0m \u001b[0mnp\u001b[0m\u001b[0;34m.\u001b[0m\u001b[0masarray\u001b[0m\u001b[0;34m(\u001b[0m\u001b[0mimages_grayscale\u001b[0m\u001b[0;34m[\u001b[0m\u001b[0mplay_idx\u001b[0m\u001b[0;34m]\u001b[0m\u001b[0;34m)\u001b[0m\u001b[0;34m\u001b[0m\u001b[0;34m\u001b[0m\u001b[0m\n\u001b[1;32m     19\u001b[0m             \u001b[0mplay_idx\u001b[0m \u001b[0;34m+=\u001b[0m \u001b[0;36m1\u001b[0m\u001b[0;34m\u001b[0m\u001b[0;34m\u001b[0m\u001b[0m\n",
      "\u001b[0;32m/opt/anaconda3/lib/python3.8/site-packages/pandas/core/generic.py\u001b[0m in \u001b[0;36m__getattr__\u001b[0;34m(self, name)\u001b[0m\n\u001b[1;32m   5484\u001b[0m             \u001b[0;32mand\u001b[0m \u001b[0mself\u001b[0m\u001b[0;34m.\u001b[0m\u001b[0m_info_axis\u001b[0m\u001b[0;34m.\u001b[0m\u001b[0m_can_hold_identifiers_and_holds_name\u001b[0m\u001b[0;34m(\u001b[0m\u001b[0mname\u001b[0m\u001b[0;34m)\u001b[0m\u001b[0;34m\u001b[0m\u001b[0;34m\u001b[0m\u001b[0m\n\u001b[1;32m   5485\u001b[0m         ):\n\u001b[0;32m-> 5486\u001b[0;31m             \u001b[0;32mreturn\u001b[0m \u001b[0mself\u001b[0m\u001b[0;34m[\u001b[0m\u001b[0mname\u001b[0m\u001b[0;34m]\u001b[0m\u001b[0;34m\u001b[0m\u001b[0;34m\u001b[0m\u001b[0m\n\u001b[0m\u001b[1;32m   5487\u001b[0m         \u001b[0;32mreturn\u001b[0m \u001b[0mobject\u001b[0m\u001b[0;34m.\u001b[0m\u001b[0m__getattribute__\u001b[0m\u001b[0;34m(\u001b[0m\u001b[0mself\u001b[0m\u001b[0;34m,\u001b[0m \u001b[0mname\u001b[0m\u001b[0;34m)\u001b[0m\u001b[0;34m\u001b[0m\u001b[0;34m\u001b[0m\u001b[0m\n\u001b[1;32m   5488\u001b[0m \u001b[0;34m\u001b[0m\u001b[0m\n",
      "\u001b[0;32m/opt/anaconda3/lib/python3.8/site-packages/pandas/core/series.py\u001b[0m in \u001b[0;36m__getitem__\u001b[0;34m(self, key)\u001b[0m\n\u001b[1;32m    940\u001b[0m \u001b[0;34m\u001b[0m\u001b[0m\n\u001b[1;32m    941\u001b[0m         \u001b[0;32melif\u001b[0m \u001b[0mkey_is_scalar\u001b[0m\u001b[0;34m:\u001b[0m\u001b[0;34m\u001b[0m\u001b[0;34m\u001b[0m\u001b[0m\n\u001b[0;32m--> 942\u001b[0;31m             \u001b[0;32mreturn\u001b[0m \u001b[0mself\u001b[0m\u001b[0;34m.\u001b[0m\u001b[0m_get_value\u001b[0m\u001b[0;34m(\u001b[0m\u001b[0mkey\u001b[0m\u001b[0;34m)\u001b[0m\u001b[0;34m\u001b[0m\u001b[0;34m\u001b[0m\u001b[0m\n\u001b[0m\u001b[1;32m    943\u001b[0m \u001b[0;34m\u001b[0m\u001b[0m\n\u001b[1;32m    944\u001b[0m         \u001b[0;32mif\u001b[0m \u001b[0mis_hashable\u001b[0m\u001b[0;34m(\u001b[0m\u001b[0mkey\u001b[0m\u001b[0;34m)\u001b[0m\u001b[0;34m:\u001b[0m\u001b[0;34m\u001b[0m\u001b[0;34m\u001b[0m\u001b[0m\n",
      "\u001b[0;32m/opt/anaconda3/lib/python3.8/site-packages/pandas/core/series.py\u001b[0m in \u001b[0;36m_get_value\u001b[0;34m(self, label, takeable)\u001b[0m\n\u001b[1;32m   1050\u001b[0m         \u001b[0;31m# Similar to Index.get_value, but we do not fall back to positional\u001b[0m\u001b[0;34m\u001b[0m\u001b[0;34m\u001b[0m\u001b[0;34m\u001b[0m\u001b[0m\n\u001b[1;32m   1051\u001b[0m         \u001b[0mloc\u001b[0m \u001b[0;34m=\u001b[0m \u001b[0mself\u001b[0m\u001b[0;34m.\u001b[0m\u001b[0mindex\u001b[0m\u001b[0;34m.\u001b[0m\u001b[0mget_loc\u001b[0m\u001b[0;34m(\u001b[0m\u001b[0mlabel\u001b[0m\u001b[0;34m)\u001b[0m\u001b[0;34m\u001b[0m\u001b[0;34m\u001b[0m\u001b[0m\n\u001b[0;32m-> 1052\u001b[0;31m         \u001b[0;32mreturn\u001b[0m \u001b[0mself\u001b[0m\u001b[0;34m.\u001b[0m\u001b[0mindex\u001b[0m\u001b[0;34m.\u001b[0m\u001b[0m_get_values_for_loc\u001b[0m\u001b[0;34m(\u001b[0m\u001b[0mself\u001b[0m\u001b[0;34m,\u001b[0m \u001b[0mloc\u001b[0m\u001b[0;34m,\u001b[0m \u001b[0mlabel\u001b[0m\u001b[0;34m)\u001b[0m\u001b[0;34m\u001b[0m\u001b[0;34m\u001b[0m\u001b[0m\n\u001b[0m\u001b[1;32m   1053\u001b[0m \u001b[0;34m\u001b[0m\u001b[0m\n\u001b[1;32m   1054\u001b[0m     \u001b[0;32mdef\u001b[0m \u001b[0m__setitem__\u001b[0m\u001b[0;34m(\u001b[0m\u001b[0mself\u001b[0m\u001b[0;34m,\u001b[0m \u001b[0mkey\u001b[0m\u001b[0;34m,\u001b[0m \u001b[0mvalue\u001b[0m\u001b[0;34m)\u001b[0m \u001b[0;34m->\u001b[0m \u001b[0;32mNone\u001b[0m\u001b[0;34m:\u001b[0m\u001b[0;34m\u001b[0m\u001b[0;34m\u001b[0m\u001b[0m\n",
      "\u001b[0;32m/opt/anaconda3/lib/python3.8/site-packages/pandas/core/indexes/base.py\u001b[0m in \u001b[0;36m_get_values_for_loc\u001b[0;34m(self, series, loc, key)\u001b[0m\n\u001b[1;32m   5182\u001b[0m         \"\"\"\n\u001b[1;32m   5183\u001b[0m         \u001b[0;32mif\u001b[0m \u001b[0mis_integer\u001b[0m\u001b[0;34m(\u001b[0m\u001b[0mloc\u001b[0m\u001b[0;34m)\u001b[0m\u001b[0;34m:\u001b[0m\u001b[0;34m\u001b[0m\u001b[0;34m\u001b[0m\u001b[0m\n\u001b[0;32m-> 5184\u001b[0;31m             \u001b[0;32mreturn\u001b[0m \u001b[0mseries\u001b[0m\u001b[0;34m.\u001b[0m\u001b[0m_values\u001b[0m\u001b[0;34m[\u001b[0m\u001b[0mloc\u001b[0m\u001b[0;34m]\u001b[0m\u001b[0;34m\u001b[0m\u001b[0;34m\u001b[0m\u001b[0m\n\u001b[0m\u001b[1;32m   5185\u001b[0m \u001b[0;34m\u001b[0m\u001b[0m\n\u001b[1;32m   5186\u001b[0m         \u001b[0;32mreturn\u001b[0m \u001b[0mseries\u001b[0m\u001b[0;34m.\u001b[0m\u001b[0miloc\u001b[0m\u001b[0;34m[\u001b[0m\u001b[0mloc\u001b[0m\u001b[0;34m]\u001b[0m\u001b[0;34m\u001b[0m\u001b[0;34m\u001b[0m\u001b[0m\n",
      "\u001b[0;31mKeyboardInterrupt\u001b[0m: "
     ]
    }
   ],
   "source": [
    "mode = 'grayscale'\n",
    "\n",
    "path = \"../data/stadium-iopt/training_frames/\" + mode + \"/\"\n",
    "images_grayscale =  [[]]\n",
    "prev_play = labels_df_grayscale.play[0]\n",
    "play_idx = 0\n",
    "plays_grayscale = [labels_df_grayscale.iloc[0].play]\n",
    "labels_grayscale = [labels_df_grayscale.iloc[0].numeric_label]\n",
    "char_labels_grayscale = [labels_df_grayscale.iloc[0].label]\n",
    "\n",
    "grayscale_np_dir = \"../data/stadium-iopt/numpy_data/\" + mode + \"/\"\n",
    "file_count = len([name for name in listdir(rgb_np_dir) if not name.startswith(\".\")])\n",
    "\n",
    "if file_count == 0:\n",
    "    for idx, row in labels_df_grayscale.iterrows():\n",
    "        image = img.open(path + row.filename)\n",
    "        if prev_play != row.play:\n",
    "            images_grayscale[play_idx] = np.asarray(images_grayscale[play_idx])\n",
    "            play_idx += 1\n",
    "            prev_play = row.play\n",
    "            images_grayscale.append([])\n",
    "            labels_grayscale.append(row.numeric_label)\n",
    "            char_labels_grayscale.append(row.label)\n",
    "            plays_grayscale.append(row.play)\n",
    "            if play_idx % 1000 == 0 or play_idx == (5667 - 1):\n",
    "                print(\"Video \" + str(play_idx + 1) + \" of \" + str(5667))\n",
    "        images_grayscale[play_idx].append(np.asarray(image))\n",
    "\n",
    "    images_grayscale[-1] = np.asarray(images_grayscale[-1])    \n",
    "    images_grayscale = np.asarray(images_grayscale)"
   ]
  },
  {
   "cell_type": "code",
   "execution_count": null,
   "metadata": {},
   "outputs": [],
   "source": [
    "print(images_grayscale.shape)\n",
    "print(images_grayscale[0].shape)\n",
    "print(images_grayscale[0][0].shape)"
   ]
  },
  {
   "cell_type": "code",
   "execution_count": null,
   "metadata": {},
   "outputs": [],
   "source": [
    "print(len(labels_grayscale))\n",
    "print(len(char_labels_grayscale))\n",
    "print(len(plays_grayscale))"
   ]
  },
  {
   "cell_type": "code",
   "execution_count": null,
   "metadata": {},
   "outputs": [],
   "source": [
    "# Saving the numeric labels_grayscale\n",
    "\n",
    "np.save('../data/stadium-iopt/numpy_data/' + mode + '/numeric_labels_grayscale.npy', labels_grayscale)\n",
    "\n",
    "# Saving the char labels_grayscale\n",
    "\n",
    "np.save('../data/stadium-iopt/numpy_data/' + mode + '/char_labels_grayscale.npy', char_labels_grayscale)\n",
    "\n",
    "# Saving the play numbers\n",
    "\n",
    "np.save('../data/stadium-iopt/numpy_data/' + mode + '/plays_grayscale.npy', plays_grayscale)\n",
    "\n",
    "# Saving the numpy array containing all the frames for each play\n",
    "\n",
    "np.save('../data/stadium-iopt/numpy_data/' + mode + '/images_grayscale.npy', images_grayscale)"
   ]
  },
  {
   "cell_type": "markdown",
   "metadata": {},
   "source": [
    "## 5. Converting the training labels to one-hot vectors"
   ]
  },
  {
   "cell_type": "code",
   "execution_count": null,
   "metadata": {},
   "outputs": [],
   "source": [
    "one_hot_labels = np.zeros((len(labels),len(labels_df.numeric_label.unique())))\n",
    "idx = 0\n",
    "\n",
    "for label in labels:\n",
    "    one_hot_labels[idx][label] = 1\n",
    "    idx += 1\n",
    "    \n",
    "one_hot_labels = np.asarray(one_hot_labels)"
   ]
  },
  {
   "cell_type": "code",
   "execution_count": null,
   "metadata": {},
   "outputs": [],
   "source": [
    "mode = 'rgb'\n",
    "\n",
    "# Saving the numpy array containing all the labels as one-hot encoded vectors\n",
    "\n",
    "np.save('../data/stadium-iopt/numpy_data/' + mode + '/one_hot_labels.npy', one_hot_labels)"
   ]
  },
  {
   "cell_type": "code",
   "execution_count": null,
   "metadata": {},
   "outputs": [],
   "source": [
    "one_hot_labels_grayscale = np.zeros((len(labels_grayscale),len(labels_df_grayscale.numeric_label.unique())))\n",
    "idx = 0\n",
    "\n",
    "for label in labels_grayscale:\n",
    "    one_hot_labels_grayscale[idx][label] = 1\n",
    "    idx += 1\n",
    "    \n",
    "one_hot_labels_grayscale = np.asarray(one_hot_labels_grayscale)"
   ]
  },
  {
   "cell_type": "code",
   "execution_count": null,
   "metadata": {},
   "outputs": [],
   "source": [
    "mode = 'grayscale'\n",
    "\n",
    "# Saving the numpy array containing all the labels as one-hot encoded vectors\n",
    "\n",
    "np.save('../data/stadium-iopt/numpy_data/' + mode + '/one_hot_labels.npy', one_hot_labels_grayscale)"
   ]
  },
  {
   "cell_type": "markdown",
   "metadata": {},
   "source": [
    "## 6. Plotting all the training frames for a play"
   ]
  },
  {
   "cell_type": "code",
   "execution_count": null,
   "metadata": {
    "scrolled": false
   },
   "outputs": [],
   "source": [
    "for i in range(len(images[0])):\n",
    "    plt.figure()\n",
    "    plt.imshow(images[0][i])"
   ]
  }
 ],
 "metadata": {
  "kernelspec": {
   "display_name": "Python 3 (ipykernel)",
   "language": "python",
   "name": "python3"
  },
  "language_info": {
   "codemirror_mode": {
    "name": "ipython",
    "version": 3
   },
   "file_extension": ".py",
   "mimetype": "text/x-python",
   "name": "python",
   "nbconvert_exporter": "python",
   "pygments_lexer": "ipython3",
   "version": "3.8.12"
  }
 },
 "nbformat": 4,
 "nbformat_minor": 4
}
